{
 "cells": [
  {
   "cell_type": "markdown",
   "metadata": {},
   "source": [
    "## Ejercicio 1 declaraciones if, else, elif"
   ]
  },
  {
   "cell_type": "code",
   "execution_count": 16,
   "metadata": {},
   "outputs": [
    {
     "name": "stdout",
     "output_type": "stream",
     "text": [
      "Alerta, objeto no identificado se acerca rapidamente a una velocidad de: 49 KM/H\n",
      "Introduzca velocidad rectificada\n",
      "El asteroide está viajando a: 24 KM/H. No hay peligro inminente\n"
     ]
    }
   ],
   "source": [
    "VelAsteroid = int(49)\n",
    "if VelAsteroid > 25:\n",
    "    print (\"Alerta, objeto no identificado se acerca rapidamente\" + \" a una velocidad de: \"+ str(VelAsteroid) +\" KM/H\")\n",
    "else:\n",
    "    print (\"No hay peligro de colision\")\n",
    "\n",
    "print(\"Introduzca velocidad rectificada\")\n",
    "New = input()\n",
    "if New > str(25):\n",
    "    print(\"Alerta, objeto no identificado se acerca rapidamente\" + \" a una velocidad de: \"+ str(New) +\" KM/H\")\n",
    "else:\n",
    "    print(\"El asteroide está viajando a: \"+ str(New) +\" KM/H. No hay peligro inminente\")  "
   ]
  },
  {
   "cell_type": "markdown",
   "metadata": {},
   "source": [
    "## Ejercicio 2 Declaraciones if,else,elif"
   ]
  },
  {
   "cell_type": "code",
   "execution_count": 32,
   "metadata": {},
   "outputs": [
    {
     "name": "stdout",
     "output_type": "stream",
     "text": [
      "Deteccion del asteroide\n",
      "Introduzca la velocidad detectada\n",
      "No se aprecia nada en el cielo\n"
     ]
    }
   ],
   "source": [
    "print(\"Deteccion del asteroide\")\n",
    "print (\"Introduzca la velocidad detectada\")\n",
    "VelAst = input()\n",
    "if VelAst > str(20):\n",
    "    print(\"Se puede ver una luz reflejada en el cielo\")\n",
    "elif VelAst == 20:\n",
    "    print(\"Se puede ver una luz reflejada en el cielo\")\n",
    "else:\n",
    "    print(\"No se aprecia nada en el cielo\")\n"
   ]
  },
  {
   "cell_type": "markdown",
   "metadata": {},
   "source": [
    "## Ejercicio 3 uso de operadores and y or"
   ]
  },
  {
   "cell_type": "code",
   "execution_count": 29,
   "metadata": {},
   "outputs": [
    {
     "name": "stdout",
     "output_type": "stream",
     "text": [
      "Alertas de asteroides\n",
      "Introduzca el tamaño obtenido en KM\n",
      "Introduzca la velocidad del asteroide en KM/Hr \n",
      "No se detecta alteracion alguna\n"
     ]
    }
   ],
   "source": [
    "print(\"Alertas de asteroides\")\n",
    "print(\"Introduzca el tamaño obtenido en KM\")\n",
    "AstSize = input()\n",
    "print(\"Introduzca la velocidad del asteroide en KM/Hr \")\n",
    "AstVel = input()\n",
    "if AstSize >= str(25) and AstVel >= str(25):\n",
    "    print(\"Peligro, el asteroide de \"+ str(AstSize)+\" a \"+str(AstVel)+\" KM/Hr\"+ \" es potencialmente dañino para el planeta\")\n",
    "elif AstSize < str(25) and AstVel >= str(20):\n",
    "    print(\"No se detecta peligro, asteroide pequeño\")\n",
    "    print(\"Se informa sobre un un rayo de luz en el cielo provocado por el asteroide\")\n",
    "else:\n",
    "    print(\"No se detecta alteracion alguna\")"
   ]
  }
 ],
 "metadata": {
  "interpreter": {
   "hash": "248c4ac2c75e6b992ae38b2cd85a3331079b3aa2c019ba2da7910bbf2fc1a927"
  },
  "kernelspec": {
   "display_name": "Python 3.10.2 64-bit",
   "language": "python",
   "name": "python3"
  },
  "language_info": {
   "codemirror_mode": {
    "name": "ipython",
    "version": 3
   },
   "file_extension": ".py",
   "mimetype": "text/x-python",
   "name": "python",
   "nbconvert_exporter": "python",
   "pygments_lexer": "ipython3",
   "version": "3.10.2"
  },
  "orig_nbformat": 4
 },
 "nbformat": 4,
 "nbformat_minor": 2
}
