{
 "cells": [
  {
   "cell_type": "markdown",
   "metadata": {},
   "source": [
    "## Ejercicio 1: Uso de funciones en python"
   ]
  },
  {
   "cell_type": "code",
   "execution_count": null,
   "metadata": {},
   "outputs": [],
   "source": [
    "def avr(valores):\n",
    "    total = sum(valores)\n",
    "    cantidades = len(valores)\n",
    "    return total/cantidades      \n",
    "\n",
    "def reporte(tanque1,tanque2,tanque3):\n",
    "    return f\"\"\"nivel en el tanque 1: {tanque1}\n",
    "nivel en el tanque 2: {tanque2}\n",
    "nivel en el tanque 3: {tanque3}\n",
    "promedio de los tanques {avr([tanque1,tanque2,tanque3])} \n",
    "\"\"\"    \n",
    "print(reporte(80,80,80))\n"
   ]
  },
  {
   "cell_type": "markdown",
   "metadata": {},
   "source": [
    "## Ejercicio 2: Trabajo con argumentos de palabras clave"
   ]
  },
  {
   "cell_type": "code",
   "execution_count": 18,
   "metadata": {},
   "outputs": [
    {
     "name": "stdout",
     "output_type": "stream",
     "text": [
      "La mision a moon\n",
      "    Tiempo de llegada 74 minutos\n",
      "    Flujo total en los tanques: 500000\n",
      "    tanque principal con 300000 galones restantes\n",
      "    tanque externo con 200000 galones restantes\n",
      "    \n"
     ]
    }
   ],
   "source": [
    "def informe(destino,*minutos,**reservas):\n",
    "    tanques = reservas.values()\n",
    "    reporte = f\"\"\"La mision a {destino}\n",
    "    Tiempo de llegada {sum(minutos)} minutos\n",
    "    Flujo total en los tanques: {sum(tanques)}\n",
    "    \"\"\"\n",
    "    for nombre, galones in reservas.items():\n",
    "        reporte += f\"tanque {nombre} con {galones} galones restantes\\n    \"\n",
    "    return reporte\n",
    "\n",
    "print(informe(\"moon\",8, 11, 55, principal=300000, externo=200000))    \n"
   ]
  }
 ],
 "metadata": {
  "interpreter": {
   "hash": "248c4ac2c75e6b992ae38b2cd85a3331079b3aa2c019ba2da7910bbf2fc1a927"
  },
  "kernelspec": {
   "display_name": "Python 3.10.2 64-bit",
   "language": "python",
   "name": "python3"
  },
  "language_info": {
   "codemirror_mode": {
    "name": "ipython",
    "version": 3
   },
   "file_extension": ".py",
   "mimetype": "text/x-python",
   "name": "python",
   "nbconvert_exporter": "python",
   "pygments_lexer": "ipython3",
   "version": "3.10.2"
  },
  "orig_nbformat": 4
 },
 "nbformat": 4,
 "nbformat_minor": 2
}
