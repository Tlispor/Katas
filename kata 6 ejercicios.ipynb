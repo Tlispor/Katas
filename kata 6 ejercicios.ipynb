{
 "cells": [
  {
   "cell_type": "markdown",
   "metadata": {},
   "source": [
    "## Ejercicio 1: Crear y usar listas de python"
   ]
  },
  {
   "cell_type": "code",
   "execution_count": 5,
   "metadata": {},
   "outputs": [
    {
     "name": "stdout",
     "output_type": "stream",
     "text": [
      "Actualmente hay 8 planetas en el sistema solar\n",
      "Nevermind, en realidad hay 9 planetas en el sistema solar, donde el ultimo es pluton\n",
      "pluton\n"
     ]
    }
   ],
   "source": [
    "list_planetas = ['Mercurio','Venus','Tierra','Marte','Jupyter','Saturno','Urano','Neptuno']\n",
    "numero_planetas = len(list_planetas)\n",
    "print(\"Actualmente hay\",numero_planetas,\"planetas en el sistema solar\")\n",
    "list_planetas.append('pluton')\n",
    "numero_planetas = len(list_planetas)\n",
    "print(\"Nevermind, en realidad hay\",numero_planetas,\"planetas en el sistema solar, donde el ultimo es\",max(list_planetas))\n",
    "#print(list_planetas[-1])\n"
   ]
  },
  {
   "cell_type": "markdown",
   "metadata": {},
   "source": [
    "## Ejercicio 2: Trabajando con datos de una lista"
   ]
  },
  {
   "cell_type": "code",
   "execution_count": 13,
   "metadata": {},
   "outputs": [
    {
     "name": "stdout",
     "output_type": "stream",
     "text": [
      "El planeta Neptuno es el 8 de la lista\n",
      "Planetas mas cercanos al sol que Neptuno : ['Mercurio', 'Venus', 'Tierra', 'Marte', 'Jupyter', 'Saturno', 'Urano']\n",
      "Planetas mas lejanos al sol que Neptuno : []\n"
     ]
    }
   ],
   "source": [
    "list_planetas = ['Mercurio','Venus','Tierra','Marte','Jupyter','Saturno','Urano','Neptuno']\n",
    "planeta = input(\"Introduzca el nombre de un planeta (se requiere primera letra mayuscula\")\n",
    "planet_index = list_planetas.index(planeta)\n",
    "print(\"El planeta\",planeta,\"es el\",planet_index + 1,\"de la lista\")\n",
    "print(\"Planetas mas cercanos al sol que\",planeta,\":\",list_planetas[0:planet_index])\n",
    "print(\"Planetas mas lejanos al sol que\",planeta,\":\",list_planetas[planet_index+1:])"
   ]
  }
 ],
 "metadata": {
  "interpreter": {
   "hash": "248c4ac2c75e6b992ae38b2cd85a3331079b3aa2c019ba2da7910bbf2fc1a927"
  },
  "kernelspec": {
   "display_name": "Python 3.10.2 64-bit",
   "language": "python",
   "name": "python3"
  },
  "language_info": {
   "codemirror_mode": {
    "name": "ipython",
    "version": 3
   },
   "file_extension": ".py",
   "mimetype": "text/x-python",
   "name": "python",
   "nbconvert_exporter": "python",
   "pygments_lexer": "ipython3",
   "version": "3.10.2"
  },
  "orig_nbformat": 4
 },
 "nbformat": 4,
 "nbformat_minor": 2
}
