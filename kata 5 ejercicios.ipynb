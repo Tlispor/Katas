{
 "cells": [
  {
   "cell_type": "markdown",
   "metadata": {},
   "source": [
    "## Ejercicio 1: Operadores aritmeticos"
   ]
  },
  {
   "cell_type": "code",
   "execution_count": 15,
   "metadata": {},
   "outputs": [
    {
     "name": "stdout",
     "output_type": "stream",
     "text": [
      "La distancia entre jupyter y el sol es: 778547200Km \n",
      "mientras que la distancia entre la tierra y el sol es: 149597870 Km\n",
      "La distancia entre ambos es de: 628949330 Km\n",
      "y en millas: 390577534 M\n"
     ]
    }
   ],
   "source": [
    "from math import ceil, floor\n",
    "\n",
    "jupyter = 778547200 #km\n",
    "tierra = 149597870 #km\n",
    "print (f\"\"\"La distancia entre jupyter y el sol es: {jupyter}Km \\nmientras que la distancia entre la tierra y el sol es: {tierra} Km\"\"\")\n",
    "distance = jupyter - tierra\n",
    "print(\"La distancia entre ambos es de: \"+str(distance)+\" Km\")\n",
    "milla = distance * 0.621\n",
    "round_up = ceil(milla)\n",
    "print(\"y en millas: \"+str(round_up)+\" M\")\n",
    "\n"
   ]
  },
  {
   "cell_type": "markdown",
   "metadata": {},
   "source": [
    "## Ejercicio 2: Convertir cadenas en numeros y usar valores absolutos"
   ]
  },
  {
   "cell_type": "code",
   "execution_count": 25,
   "metadata": {},
   "outputs": [
    {
     "name": "stdout",
     "output_type": "stream",
     "text": [
      "Medicion de distancia entre dos planetas\n",
      "La distancia total en Km entre ellos es: \n",
      "2000\n",
      "En millas: \n",
      "1242.0\n"
     ]
    }
   ],
   "source": [
    "print(\"Medicion de distancia entre dos planetas\")\n",
    "planeta1 = input(\"Introduzca la distancia del primer planeta\")\n",
    "planeta2 = input(\"Introduzca la distancia del segundo planeta\")\n",
    "total = int(planeta1) - int(planeta2)\n",
    "print(\"La distancia total en Km entre ellos es: \")\n",
    "print(abs(total))\n",
    "millas = total * 0.621\n",
    "print(\"En millas: \")\n",
    "print(abs(millas))\n"
   ]
  }
 ],
 "metadata": {
  "interpreter": {
   "hash": "248c4ac2c75e6b992ae38b2cd85a3331079b3aa2c019ba2da7910bbf2fc1a927"
  },
  "kernelspec": {
   "display_name": "Python 3.10.2 64-bit",
   "language": "python",
   "name": "python3"
  },
  "language_info": {
   "codemirror_mode": {
    "name": "ipython",
    "version": 3
   },
   "file_extension": ".py",
   "mimetype": "text/x-python",
   "name": "python",
   "nbconvert_exporter": "python",
   "pygments_lexer": "ipython3",
   "version": "3.10.2"
  },
  "orig_nbformat": 4
 },
 "nbformat": 4,
 "nbformat_minor": 2
}
