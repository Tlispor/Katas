{
 "cells": [
  {
   "cell_type": "markdown",
   "metadata": {},
   "source": [
    "## Ejercicio 1 Transformar cadenas"
   ]
  },
  {
   "cell_type": "code",
   "execution_count": null,
   "metadata": {},
   "outputs": [],
   "source": [
    "text = \"\"\"Interesting facts about the Moon. The Moon is Earth's only satellite. There are several interesting facts about the Moon and how it affects life here on Earth. \n",
    "On average, the Moon moves 4cm away from the Earth every year. This yearly drift is not significant enough to cause immediate effects on Earth. The highest daylight temperature of the Moon is 127 C.\"\"\"\n",
    "partes = text.split()\n",
    "key_words = ['moves' ,\"temperature\",\"127\", \"C\", \"4cm\"]\n",
    "for palabra in partes:\n",
    "    for clave in key_words:\n",
    "        if clave in palabra:\n",
    "            print(palabra.replace('C','Celsius').replace('cm','Centimetros'))\n",
    "            break\n"
   ]
  },
  {
   "cell_type": "markdown",
   "metadata": {},
   "source": [
    "## Ejercicio 2 Formateando cadenas"
   ]
  },
  {
   "cell_type": "code",
   "execution_count": 68,
   "metadata": {},
   "outputs": [
    {
     "name": "stdout",
     "output_type": "stream",
     "text": [
      "Niveles de gravedad de la Luna\n",
      "Nombre del planeta: Tierra \n",
      "Niveles de gravedad en la Luna: 1.6199999999999999 M/s\n",
      "\n",
      "Datos de gravedad sobre ganimedes\n",
      "                    Nombre del planeta: marte\n",
      "                    Gravedad en ganimedes: 1.4300000000000002 M/s\n"
     ]
    }
   ],
   "source": [
    "nombre = 'Luna'\n",
    "gravedad = 0.00162 #km/s\n",
    "planeta = 'Tierra'\n",
    "#print (\"Niveles de gravedad en la {nombre}\\nNombre del planeta: {planeta} \\nNiveles de gravedad en la {nombre}: {gravedad}\".format(nombre=nombre, gravedad=gravedad, planeta=planeta))\n",
    "titulo = f'Niveles de gravedad de la {nombre}'\n",
    "titulo.title()\n",
    "plantilla = f\"\"\"\\nNombre del planeta: {planeta} \\nNiveles de gravedad en la {nombre}: {gravedad * 1000} M/s\"\"\"\n",
    "template = f\"\"\"{titulo}{plantilla}\"\"\"\n",
    "print(template)\n",
    "nueva_plantilla = \"\"\"\\nDatos de gravedad sobre {nombre}\n",
    "                    Nombre del planeta: {planeta}\n",
    "                    Gravedad en {nombre}: {gravedad} M/s\"\"\".format(nombre = \"ganimedes\", planeta = \"marte\", gravedad = 1.4300000000000002)\n",
    "print(nueva_plantilla)\n"
   ]
  }
 ],
 "metadata": {
  "interpreter": {
   "hash": "248c4ac2c75e6b992ae38b2cd85a3331079b3aa2c019ba2da7910bbf2fc1a927"
  },
  "kernelspec": {
   "display_name": "Python 3.10.2 64-bit",
   "language": "python",
   "name": "python3"
  },
  "language_info": {
   "codemirror_mode": {
    "name": "ipython",
    "version": 3
   },
   "file_extension": ".py",
   "mimetype": "text/x-python",
   "name": "python",
   "nbconvert_exporter": "python",
   "pygments_lexer": "ipython3",
   "version": "3.10.2"
  },
  "orig_nbformat": 4
 },
 "nbformat": 4,
 "nbformat_minor": 2
}
