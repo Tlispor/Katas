{
 "cells": [
  {
   "cell_type": "markdown",
   "metadata": {},
   "source": [
    "## Ejercicio 1: Creacion de diccionarios en python"
   ]
  },
  {
   "cell_type": "code",
   "execution_count": null,
   "metadata": {},
   "outputs": [],
   "source": [
    "planet = {\n",
    "    'name': 'Marte',\n",
    "    'moons': 1  \n",
    "}\n",
    "#print(planet.get('name'))\n",
    "#print(planet.get('moons'))\n",
    "print(planet['name'])\n",
    "print(planet['moons'])\n",
    "planet.update({\n",
    "    'name':'Jupyter',\n",
    "    'moons': 79\n",
    "})\n",
    "print(planet['name'] + \" \"+str(planet['moons']))\n",
    "planet['circunferencia(km)'] = {\n",
    "    'polar': 6752,\n",
    "    'equatorial':6792\n",
    "}\n",
    "print(\"Los nuevos datos son nombre: \" + planet['name'] + \"\\nLunas: \"+ str(planet['moons']) + \"\\ncircunferencia polar: \" + str(planet['circunferencia(km)']['polar']) )"
   ]
  },
  {
   "cell_type": "markdown",
   "metadata": {},
   "source": [
    "## Ejercicio 2: Programacion dinamica con diccionarios"
   ]
  },
  {
   "cell_type": "code",
   "execution_count": 32,
   "metadata": {},
   "outputs": [
    {
     "name": "stdout",
     "output_type": "stream",
     "text": [
      "El numero total de lunas es: 214\n",
      "El promedio de lunas por planeta es: 17.833333333333332\n"
     ]
    }
   ],
   "source": [
    "planet_moons = {\n",
    "    'mercury': 0,\n",
    "    'venus': 0,\n",
    "    'earth': 1,\n",
    "    'mars': 2,\n",
    "    'jupiter': 79,\n",
    "    'saturn': 82,\n",
    "    'uranus': 27,\n",
    "    'neptune': 14,\n",
    "    'pluto': 5,\n",
    "    'haumea': 2,\n",
    "    'makemake': 1,\n",
    "    'eris': 1\n",
    "}\n",
    "total_moons = 0\n",
    "moons = planet_moons.values()\n",
    "planets = len(planet_moons.keys())\n",
    "for moon in moons:\n",
    "    total_moons = total_moons + moon\n",
    "print(f'El numero total de lunas es:',total_moons)\n",
    "promedio = total_moons/planets\n",
    "print(f\"El promedio de lunas por planeta es:\",promedio)"
   ]
  }
 ],
 "metadata": {
  "interpreter": {
   "hash": "248c4ac2c75e6b992ae38b2cd85a3331079b3aa2c019ba2da7910bbf2fc1a927"
  },
  "kernelspec": {
   "display_name": "Python 3.10.2 64-bit",
   "language": "python",
   "name": "python3"
  },
  "language_info": {
   "codemirror_mode": {
    "name": "ipython",
    "version": 3
   },
   "file_extension": ".py",
   "mimetype": "text/x-python",
   "name": "python",
   "nbconvert_exporter": "python",
   "pygments_lexer": "ipython3",
   "version": "3.10.2"
  },
  "orig_nbformat": 4
 },
 "nbformat": 4,
 "nbformat_minor": 2
}
